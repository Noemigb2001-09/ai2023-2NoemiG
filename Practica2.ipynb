{
  "nbformat": 4,
  "nbformat_minor": 0,
  "metadata": {
    "colab": {
      "provenance": [],
      "include_colab_link": true
    },
    "kernelspec": {
      "name": "python3",
      "display_name": "Python 3"
    },
    "language_info": {
      "name": "python"
    }
  },
  "cells": [
    {
      "cell_type": "markdown",
      "metadata": {
        "id": "view-in-github",
        "colab_type": "text"
      },
      "source": [
        "<a href=\"https://colab.research.google.com/github/Noemigb2001-09/ai2023-2NoemiG/blob/main/Practica2.ipynb\" target=\"_parent\"><img src=\"https://colab.research.google.com/assets/colab-badge.svg\" alt=\"Open In Colab\"/></a>"
      ]
    },
    {
      "cell_type": "code",
      "execution_count": null,
      "metadata": {
        "colab": {
          "base_uri": "https://localhost:8080/"
        },
        "id": "WUMqn_1GqzOW",
        "outputId": "6dcceb24-248a-4069-f0e4-b29380bc3cde"
      },
      "outputs": [
        {
          "output_type": "stream",
          "name": "stdout",
          "text": [
            "<class 'int'>\n",
            "<class 'float'>\n",
            "<class 'str'>\n",
            "12.2\n",
            "22.0\n",
            "100\n"
          ]
        }
      ],
      "source": [
        "sample1=10\n",
        "sample2=2.2\n",
        "sample3='Ale'\n",
        "print(type(sample1))\n",
        "print(type(sample2))\n",
        "print(type(sample3))\n",
        "\n",
        "print(sample1+sample2)\n",
        "print(sample1*sample2)\n",
        "print(sample1**2)\n",
        "\n",
        "s1=True\n",
        "s2=False\n",
        "\n",
        "# print(s1 and s2)\n",
        "# print(s1 or s2)\n",
        "# print(not s1)\n",
        "\n",
        "# print(len(sample3))\n",
        "# print(sample3.upper())\n",
        "# print(sample3.lower())\n",
        "# print(sample3.capitalize())"
      ]
    },
    {
      "cell_type": "code",
      "source": [
        "someList=list()\n",
        "someList=['borrrador',1,'goma', 'mochila', True]\n",
        "print(someList[4])\n",
        "print(len(someList))\n",
        "\n",
        "# print('----------------')\n",
        "# for i in someList:\n",
        "#   print(i)\n",
        "\n",
        "# someList.append('regla')\n",
        "# print('-----------------')\n",
        "# for i in someList:\n",
        "#   print(i)\n",
        "# someList.pop(2)\n",
        "# print('*********')\n",
        "# for i in someList:\n",
        "#  print(i)\n",
        "# print('----')\n",
        "# print(someList[1:4])\n",
        "print(someList[-1])\n",
        "print(someList[:3])"
      ],
      "metadata": {
        "id": "rMineu0Ozi8A",
        "colab": {
          "base_uri": "https://localhost:8080/"
        },
        "outputId": "f2a5b7cd-4496-49e8-e12a-a0119269872f"
      },
      "execution_count": null,
      "outputs": [
        {
          "output_type": "stream",
          "name": "stdout",
          "text": [
            "True\n",
            "5\n",
            "True\n",
            "['borrrador', 1, 'goma']\n"
          ]
        }
      ]
    },
    {
      "cell_type": "code",
      "source": [
        "d={'name':'Alejandra','age':23,'city':'El Carmen'}\n",
        "# print(d['name'])\n",
        "# print(d['name'])\n",
        "\n",
        "# d['uni']='Uleam'\n",
        "# print(d['name'])\n",
        "\n",
        "\n",
        "for key in d:\n",
        " print(d[key])"
      ],
      "metadata": {
        "colab": {
          "base_uri": "https://localhost:8080/"
        },
        "id": "8MZhH_aH6zKo",
        "outputId": "7c240ee4-653d-47cb-9109-a462cd6096a6"
      },
      "execution_count": null,
      "outputs": [
        {
          "output_type": "stream",
          "name": "stdout",
          "text": [
            "Alejandra\n",
            "23\n",
            "El Carmen\n"
          ]
        }
      ]
    }
  ]
}