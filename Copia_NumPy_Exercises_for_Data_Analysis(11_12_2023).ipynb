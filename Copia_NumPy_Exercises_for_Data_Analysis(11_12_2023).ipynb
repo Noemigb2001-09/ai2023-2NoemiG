{
  "nbformat": 4,
  "nbformat_minor": 0,
  "metadata": {
    "colab": {
      "provenance": [],
      "include_colab_link": true
    },
    "kernelspec": {
      "name": "python3",
      "display_name": "Python 3"
    },
    "language_info": {
      "name": "python"
    }
  },
  "cells": [
    {
      "cell_type": "markdown",
      "metadata": {
        "id": "view-in-github",
        "colab_type": "text"
      },
      "source": [
        "<a href=\"https://colab.research.google.com/github/Noemigb2001-09/ai2023-2NoemiG/blob/main/Copia_NumPy_Exercises_for_Data_Analysis(11_12_2023).ipynb\" target=\"_parent\"><img src=\"https://colab.research.google.com/assets/colab-badge.svg\" alt=\"Open In Colab\"/></a>"
      ]
    },
    {
      "cell_type": "markdown",
      "source": [
        "NumPy Exercises for Data Analysis"
      ],
      "metadata": {
        "id": "hSsi2_-klame"
      }
    },
    {
      "cell_type": "code",
      "source": [
        "# Import numpy as np and see the version\n",
        "# your code here\n",
        "import numpy as np\n",
        "print(\"Versión de NumPy:\", np.__version__)\n",
        "\n",
        "pass"
      ],
      "metadata": {
        "id": "kuK4TNepldem",
        "colab": {
          "base_uri": "https://localhost:8080/"
        },
        "outputId": "536739fc-5260-4864-fcf5-602b1159db6a"
      },
      "execution_count": 2,
      "outputs": [
        {
          "output_type": "stream",
          "name": "stdout",
          "text": [
            "Versión de NumPy: 1.23.5\n"
          ]
        }
      ]
    },
    {
      "cell_type": "code",
      "source": [
        "# Create a 1D array of numbers from 0 to 9\n",
        "# your code here\n",
        "my_array = np.arange(10)\n",
        "print(my_array)\n",
        "\n",
        "pass"
      ],
      "metadata": {
        "id": "hbYX-oMBlvS-",
        "colab": {
          "base_uri": "https://localhost:8080/"
        },
        "outputId": "335d2aac-fe65-4899-98a0-7b3291f4150a"
      },
      "execution_count": 3,
      "outputs": [
        {
          "output_type": "stream",
          "name": "stdout",
          "text": [
            "[0 1 2 3 4 5 6 7 8 9]\n"
          ]
        }
      ]
    },
    {
      "cell_type": "code",
      "source": [
        "# Create random vector of size 10 and replace the maximum value by 0\n",
        "#your code here\n",
        "random_vector = np.random.rand(10)\n",
        "max_index = np.argmax(random_vector)\n",
        "random_vector[max_index] = 0\n",
        "print(\"Original random vector:\")\n",
        "print(random_vector)\n",
        "pass"
      ],
      "metadata": {
        "id": "HfsNmdvrwqsO",
        "colab": {
          "base_uri": "https://localhost:8080/"
        },
        "outputId": "09689038-0808-422c-9e5d-10f07ddb006c"
      },
      "execution_count": 4,
      "outputs": [
        {
          "output_type": "stream",
          "name": "stdout",
          "text": [
            "Original random vector:\n",
            "[0.45425669 0.66673344 0.13955995 0.04895211 0.44881431 0.74633769\n",
            " 0.86274656 0.         0.19065935 0.8423107 ]\n"
          ]
        }
      ]
    },
    {
      "cell_type": "code",
      "source": [
        "# Print the number 8 from the array below:\n",
        "# arr = np.array([[1,2,3,4,5], [6,7,8,9,10]])\n",
        "arr = np.array([[1, 2, 3, 4, 5], [6, 7, 8, 9, 10]])\n",
        "indices = np.where(arr == 8)\n",
        "print(\"Indices of the number 8:\", indices)\n",
        "if len(indices[0]) > 0:\n",
        "    row_index, col_index = indices\n",
        "    print(\"Number 8 is at position:\", (row_index[0], col_index[0]))\n",
        "    print(\"Value at position (row, col):\", arr[row_index[0], col_index[0]])\n",
        "else:\n",
        "    print(\"Number 8 not found in the array.\")\n",
        "pass"
      ],
      "metadata": {
        "id": "a9T-W3uUoqcE",
        "colab": {
          "base_uri": "https://localhost:8080/"
        },
        "outputId": "0415b072-80d8-4c7f-9e00-9c3b9d1a3102"
      },
      "execution_count": 5,
      "outputs": [
        {
          "output_type": "stream",
          "name": "stdout",
          "text": [
            "Indices of the number 8: (array([1]), array([2]))\n",
            "Number 8 is at position: (1, 2)\n",
            "Value at position (row, col): 8\n"
          ]
        }
      ]
    },
    {
      "cell_type": "code",
      "source": [
        "# Print the numbers [3, 4, 5] from the array below:\n",
        "# arr = np.array([1,2,3,4,5,6,7])\n",
        "arr = np.array([1, 2, 3, 4, 5, 6, 7])\n",
        "subset = arr[2:5]\n",
        "print(\"Numbers [3, 4, 5]:\", subset)\n",
        "pass"
      ],
      "metadata": {
        "id": "PqvPijs8o2ub",
        "colab": {
          "base_uri": "https://localhost:8080/"
        },
        "outputId": "c41ba129-ae23-4979-9711-61601e75b320"
      },
      "execution_count": 6,
      "outputs": [
        {
          "output_type": "stream",
          "name": "stdout",
          "text": [
            "Numbers [3, 4, 5]: [3 4 5]\n"
          ]
        }
      ]
    },
    {
      "cell_type": "code",
      "source": [
        "# Print the last 4 numbers from the array below:\n",
        "# arr = np.array([1,2,3,4,5,6,7])\n",
        "arr = np.array([1, 2, 3, 4, 5, 6, 7])\n",
        "last_four = arr[-4:]\n",
        "print(\"Last 4 numbers:\", last_four)\n",
        "pass"
      ],
      "metadata": {
        "id": "H5iUCizHpk0L",
        "colab": {
          "base_uri": "https://localhost:8080/"
        },
        "outputId": "a09672b9-ec37-4b29-a65f-f4cff898fe57"
      },
      "execution_count": 7,
      "outputs": [
        {
          "output_type": "stream",
          "name": "stdout",
          "text": [
            "Last 4 numbers: [4 5 6 7]\n"
          ]
        }
      ]
    },
    {
      "cell_type": "code",
      "source": [
        "# Create a 3×3 numpy array of all True’s\n",
        "# your code here\n",
        "true_array = np.full((3, 3), True)\n",
        "print(true_array)\n",
        "pass"
      ],
      "metadata": {
        "id": "C9nBztXhl9NA",
        "colab": {
          "base_uri": "https://localhost:8080/"
        },
        "outputId": "a2271724-2556-460a-b024-9ff7d4089514"
      },
      "execution_count": 8,
      "outputs": [
        {
          "output_type": "stream",
          "name": "stdout",
          "text": [
            "[[ True  True  True]\n",
            " [ True  True  True]\n",
            " [ True  True  True]]\n"
          ]
        }
      ]
    },
    {
      "cell_type": "code",
      "source": [
        "# Extract all odd numbers from arr\n",
        "# your code here\n",
        "arr = np.array([1, 2, 3, 4, 5, 6, 7, 8, 9])\n",
        "odd_numbers = arr[arr % 2 != 0]\n",
        "print(\"Odd numbers:\", odd_numbers)\n",
        "pass"
      ],
      "metadata": {
        "id": "W18lqbBwmIhw",
        "colab": {
          "base_uri": "https://localhost:8080/"
        },
        "outputId": "646cd866-0ae5-42ea-9185-7906775d3d12"
      },
      "execution_count": 9,
      "outputs": [
        {
          "output_type": "stream",
          "name": "stdout",
          "text": [
            "Odd numbers: [1 3 5 7 9]\n"
          ]
        }
      ]
    },
    {
      "cell_type": "code",
      "source": [
        "# Create a vector with values ranging from 10 to 49 (★☆☆)\n",
        "my_vector = np.arange(10, 50)\n",
        "print(my_vector)\n",
        "pass\n"
      ],
      "metadata": {
        "id": "hA9iXCAwr55v",
        "colab": {
          "base_uri": "https://localhost:8080/"
        },
        "outputId": "b3272b18-fe4b-4f00-edef-f715cd55a7df"
      },
      "execution_count": 10,
      "outputs": [
        {
          "output_type": "stream",
          "name": "stdout",
          "text": [
            "[10 11 12 13 14 15 16 17 18 19 20 21 22 23 24 25 26 27 28 29 30 31 32 33\n",
            " 34 35 36 37 38 39 40 41 42 43 44 45 46 47 48 49]\n"
          ]
        }
      ]
    },
    {
      "cell_type": "code",
      "source": [
        "# Reverse a vector (first element becomes last)\n",
        "my_vector = np.array([1, 2, 3, 4, 5])\n",
        "reversed_vector = my_vector[::-1]\n",
        "print(\"Original vector:\", my_vector)\n",
        "print(\"Reversed vector:\", reversed_vector)\n",
        "pass"
      ],
      "metadata": {
        "id": "R-_IjeHyr83q",
        "colab": {
          "base_uri": "https://localhost:8080/"
        },
        "outputId": "38a0c14d-1ac5-415a-d053-2d95e98ea4de"
      },
      "execution_count": 11,
      "outputs": [
        {
          "output_type": "stream",
          "name": "stdout",
          "text": [
            "Original vector: [1 2 3 4 5]\n",
            "Reversed vector: [5 4 3 2 1]\n"
          ]
        }
      ]
    },
    {
      "cell_type": "code",
      "source": [
        "#  Create a 10x10 array with random integer values and find the minimum and maximum values\n",
        "random_array = np.random.randint(low=1, high=100, size=(10, 10))\n",
        "\n",
        "min_value = np.min(random_array)\n",
        "max_value = np.max(random_array)\n",
        "\n",
        "print(\"Random Array:\")\n",
        "print(random_array)\n",
        "print(\"\\nMinimum Value:\", min_value)\n",
        "print(\"Maximum Value:\", max_value)\n",
        "pass"
      ],
      "metadata": {
        "id": "rEWwl_weuq3B",
        "colab": {
          "base_uri": "https://localhost:8080/"
        },
        "outputId": "58fc52f5-8dd7-4ab0-9b06-28a0469c8f9c"
      },
      "execution_count": 12,
      "outputs": [
        {
          "output_type": "stream",
          "name": "stdout",
          "text": [
            "Random Array:\n",
            "[[94 57 33 86 78 62 27  3 34 29]\n",
            " [65 84 89 83  7 23  1 22 42 85]\n",
            " [93 84 55 20 13 85 22 96 84 36]\n",
            " [64  2 32 92 50 45 92 42 24 39]\n",
            " [64 84 75 63 48 94 36 49 53 39]\n",
            " [79  3 13 18 47 84 52  5 77 39]\n",
            " [20 69 32 59 37 16 98 79 81 83]\n",
            " [26 42 84 89 21 88 11 14 83 83]\n",
            " [55 97 30  4 98 18  9 87 87 92]\n",
            " [43 81 87 82 13 93 42 42 89 36]]\n",
            "\n",
            "Minimum Value: 1\n",
            "Maximum Value: 98\n"
          ]
        }
      ]
    },
    {
      "cell_type": "code",
      "source": [
        "# Create a 3x3x3 array with random values\n",
        "random_3d_array = np.random.rand(3, 3, 3)\n",
        "print(random_3d_array)\n",
        "pass"
      ],
      "metadata": {
        "id": "KFy17KsvvSql",
        "colab": {
          "base_uri": "https://localhost:8080/"
        },
        "outputId": "b6448157-b5d7-4ee8-83b8-5d0093d833f6"
      },
      "execution_count": 13,
      "outputs": [
        {
          "output_type": "stream",
          "name": "stdout",
          "text": [
            "[[[0.33261895 0.20180614 0.51743728]\n",
            "  [0.39801968 0.17827009 0.95647891]\n",
            "  [0.38501734 0.62047411 0.96784906]]\n",
            "\n",
            " [[0.64157745 0.6598531  0.9875205 ]\n",
            "  [0.30545589 0.04021362 0.9194049 ]\n",
            "  [0.03936327 0.30166815 0.71853083]]\n",
            "\n",
            " [[0.26070349 0.66296491 0.43775645]\n",
            "  [0.31130861 0.19831581 0.04279157]\n",
            "  [0.1995455  0.37978766 0.44125998]]]\n"
          ]
        }
      ]
    },
    {
      "cell_type": "code",
      "source": [
        "# Replace all odd numbers in arr with -1\n",
        "# your code here\n",
        "arr = np.array([1, 2, 3, 4, 5, 6, 7, 8, 9])\n",
        "arr[arr % 2 != 0] = -1\n",
        "print(\"Modified array:\", arr)\n",
        "pass"
      ],
      "metadata": {
        "id": "X7ol3alqmbNa",
        "colab": {
          "base_uri": "https://localhost:8080/"
        },
        "outputId": "a3ab85e1-91c7-48ff-8eff-607275181094"
      },
      "execution_count": 14,
      "outputs": [
        {
          "output_type": "stream",
          "name": "stdout",
          "text": [
            "Modified array: [-1  2 -1  4 -1  6 -1  8 -1]\n"
          ]
        }
      ]
    },
    {
      "cell_type": "code",
      "source": [
        "# Create an array of type float\n",
        "float_array = np.array([1.0, 2.5, 3.7, 4.2, 5.9])\n",
        "print(\"Float Array:\", float_array)\n",
        "print(\"Data Type:\", float_array.dtype)\n",
        "pass"
      ],
      "metadata": {
        "id": "GwdXYn9HqYTL",
        "colab": {
          "base_uri": "https://localhost:8080/"
        },
        "outputId": "18b22c28-ac77-48b9-b793-c267262cb984"
      },
      "execution_count": 15,
      "outputs": [
        {
          "output_type": "stream",
          "name": "stdout",
          "text": [
            "Float Array: [1.  2.5 3.7 4.2 5.9]\n",
            "Data Type: float64\n"
          ]
        }
      ]
    },
    {
      "cell_type": "code",
      "source": [
        "# Convert a 1D array to a 2D array with 2 rows\n",
        "# your code here\n",
        "my_1d_array = np.array([1, 2, 3, 4, 5, 6, 7, 8])\n",
        "my_2d_array = my_1d_array.reshape(2, -1)\n",
        "print(\"Original 1D Array:\", my_1d_array)\n",
        "print(\"Reshaped 2D Array:\")\n",
        "print(my_2d_array)\n",
        "pass"
      ],
      "metadata": {
        "id": "LvcL1lUYoPjN",
        "colab": {
          "base_uri": "https://localhost:8080/"
        },
        "outputId": "4cc874af-196e-478f-ad32-2bcf9b35db0a"
      },
      "execution_count": 16,
      "outputs": [
        {
          "output_type": "stream",
          "name": "stdout",
          "text": [
            "Original 1D Array: [1 2 3 4 5 6 7 8]\n",
            "Reshaped 2D Array:\n",
            "[[1 2 3 4]\n",
            " [5 6 7 8]]\n"
          ]
        }
      ]
    },
    {
      "cell_type": "code",
      "source": [
        "# How to find common values between two arrays?\n",
        "\n",
        "Z1 = np.random.randint(0, 10, 10)\n",
        "Z2 = np.random.randint(0, 10, 10)\n",
        "common_values = np.intersect1d(Z1, Z2)\n",
        "print(\"Array Z1:\", Z1)\n",
        "print(\"Array Z2:\", Z2)\n",
        "print(\"Common Values:\", common_values)\n",
        "pass"
      ],
      "metadata": {
        "id": "VbzMDKQvv0DX",
        "colab": {
          "base_uri": "https://localhost:8080/"
        },
        "outputId": "96a0f7a0-131d-4b0c-add6-5be8514dc041"
      },
      "execution_count": 18,
      "outputs": [
        {
          "output_type": "stream",
          "name": "stdout",
          "text": [
            "Array Z1: [3 4 8 3 8 6 5 1 8 0]\n",
            "Array Z2: [5 6 4 8 5 2 1 5 2 5]\n",
            "Common Values: [1 4 5 6 8]\n"
          ]
        }
      ]
    },
    {
      "cell_type": "code",
      "source": [
        "#  Consider two random array A and B, check if they are equal\n",
        "\n",
        "A = np.random.randint(0,2,5)\n",
        "B = np.random.randint(0,2,5)\n",
        "are_equal = np.array_equal(A, B)\n",
        "print(\"Array A:\", A)\n",
        "print(\"Array B:\", B)\n",
        "print(\"Arrays are equal:\", are_equal)\n",
        "pass"
      ],
      "metadata": {
        "id": "RWWspnDAwWGV",
        "colab": {
          "base_uri": "https://localhost:8080/"
        },
        "outputId": "f6eaa21e-1f8c-411b-e0b7-e3f12401f9bc"
      },
      "execution_count": 19,
      "outputs": [
        {
          "output_type": "stream",
          "name": "stdout",
          "text": [
            "Array A: [0 1 0 0 0]\n",
            "Array B: [1 1 1 0 0]\n",
            "Arrays are equal: False\n"
          ]
        }
      ]
    },
    {
      "cell_type": "code",
      "source": [
        "# Stack arrays a and b vertically\n",
        "# your code here\n",
        "A = np.random.randint(0, 2, 5)\n",
        "B = np.random.randint(0, 2, 5)\n",
        "result = np.vstack((A, B))\n",
        "print(\"Array A:\", A)\n",
        "print(\"Array B:\", B)\n",
        "print(\"Stacked Result:\")\n",
        "print(result)\n",
        "pass"
      ],
      "metadata": {
        "id": "SW3KvPXhoeie",
        "colab": {
          "base_uri": "https://localhost:8080/"
        },
        "outputId": "a68cfca2-dfcc-4226-bcef-58dd026007aa"
      },
      "execution_count": 20,
      "outputs": [
        {
          "output_type": "stream",
          "name": "stdout",
          "text": [
            "Array A: [0 1 1 1 0]\n",
            "Array B: [0 1 1 1 1]\n",
            "Stacked Result:\n",
            "[[0 1 1 1 0]\n",
            " [0 1 1 1 1]]\n"
          ]
        }
      ]
    },
    {
      "cell_type": "code",
      "source": [
        "# Stack the arrays a and b horizontally.\n",
        "# your code here\n",
        "A = np.random.randint(0, 2, 5)\n",
        "B = np.random.randint(0, 2, 5)\n",
        "result = np.hstack((A, B))\n",
        "print(\"Array A:\", A)\n",
        "print(\"Array B:\", B)\n",
        "print(\"Horizontally Stacked Result:\", result)\n",
        "pass"
      ],
      "metadata": {
        "id": "6wVOpIT9omwe",
        "colab": {
          "base_uri": "https://localhost:8080/"
        },
        "outputId": "070e30a6-a5d7-4348-8c8c-31c3e788bded"
      },
      "execution_count": 21,
      "outputs": [
        {
          "output_type": "stream",
          "name": "stdout",
          "text": [
            "Array A: [0 0 1 1 1]\n",
            "Array B: [0 1 1 0 0]\n",
            "Horizontally Stacked Result: [0 0 1 1 1 0 1 1 0 0]\n"
          ]
        }
      ]
    },
    {
      "cell_type": "code",
      "source": [
        "# Get all items between 5 and 10 from array tmp.\n",
        "# your code here\n",
        "import numpy as np\n",
        "tmp = np.arange(15)\n",
        "result = tmp[(tmp >= 5) & (tmp <= 10)]\n",
        "print(\"Items between 5 and 10:\", result)\n",
        "pass"
      ],
      "metadata": {
        "id": "L_7vMkGOo0gX",
        "colab": {
          "base_uri": "https://localhost:8080/"
        },
        "outputId": "74e83fa6-4356-4b91-e3a1-91fedbe00780"
      },
      "execution_count": 23,
      "outputs": [
        {
          "output_type": "stream",
          "name": "stdout",
          "text": [
            "Items between 5 and 10: [ 5  6  7  8  9 10]\n"
          ]
        }
      ]
    },
    {
      "cell_type": "code",
      "source": [
        "# How to make a python function that handles scalars to work on numpy arrays?\n",
        "# Hint\n",
        "# Desired Output:\n",
        "#a = np.array([5, 7, 9, 8, 6, 4, 5])\n",
        "#b = np.array([6, 3, 4, 8, 9, 7, 1])\n",
        "# pair_max(a, b)\n",
        "# #> array([ 6.,  7.,  9.,  8.,  9.,  7.,  5.])\n",
        "\n",
        "\n",
        "# your code here\n",
        "import numpy as np\n",
        "\n",
        "def maxx(x, y):\n",
        "    \"\"\"Get the maximum of two items\"\"\"\n",
        "    if x >= y:\n",
        "        return x\n",
        "    else:\n",
        "        return y\n",
        "\n",
        "maxx(1, 5)\n",
        "\n",
        ""
      ],
      "metadata": {
        "colab": {
          "base_uri": "https://localhost:8080/"
        },
        "id": "FVZz6ZY0p9ya",
        "outputId": "ffccf7bb-6472-4667-fc00-91f551c5b275"
      },
      "execution_count": 26,
      "outputs": [
        {
          "output_type": "execute_result",
          "data": {
            "text/plain": [
              "5"
            ]
          },
          "metadata": {},
          "execution_count": 26
        }
      ]
    },
    {
      "cell_type": "code",
      "source": [
        "# Swap columns 1 and 2 in the array arr.\n",
        "# Hint\n",
        "# Desired Output:\n",
        "# [[0 2 1]\n",
        "#  [3 5 4]\n",
        "#  [6 8 7]]\n",
        "\n",
        "\n",
        "arr = np.arange(9).reshape(3,3)\n",
        "print(arr)\n",
        "# your code here\n",
        "pass\n"
      ],
      "metadata": {
        "colab": {
          "base_uri": "https://localhost:8080/"
        },
        "outputId": "38cc8bb0-fd10-4ee0-c9ef-b145d9f96ccd",
        "id": "8vIzM5e8ql6i"
      },
      "execution_count": 27,
      "outputs": [
        {
          "output_type": "stream",
          "name": "stdout",
          "text": [
            "[[0 1 2]\n",
            " [3 4 5]\n",
            " [6 7 8]]\n"
          ]
        }
      ]
    },
    {
      "cell_type": "code",
      "source": [
        "# Create a 2D array of shape 5x3 to contain random decimal numbers between 5 and 10.\n",
        "# Hint\n",
        "# The desired Output should be like the following one:\n",
        "#  [[ 8.50061025  9.10531502  6.85867783]\n",
        "#   [ 9.76262069  9.87717411  7.13466701]\n",
        "#   [ 7.48966403  8.33409158  6.16808631]\n",
        "#   [ 7.75010551  9.94535696  5.27373226]\n",
        "#   [ 8.0850361   5.56165518  7.31244004]]\n",
        "random_array = np.random.uniform(5, 10, size=(5, 3))\n",
        "\n",
        "print(random_array)"
      ],
      "metadata": {
        "id": "FOXX5b17rY7E",
        "colab": {
          "base_uri": "https://localhost:8080/"
        },
        "outputId": "f2cd91e1-7f11-4851-ca49-f1956ae94465"
      },
      "execution_count": 28,
      "outputs": [
        {
          "output_type": "stream",
          "name": "stdout",
          "text": [
            "[[5.69000243 8.61500302 8.33361564]\n",
            " [8.74446911 7.37298826 8.62301823]\n",
            " [7.46750432 9.50427543 7.6508673 ]\n",
            " [7.06844372 6.99498903 9.27605436]\n",
            " [8.87607898 5.64019119 8.50522609]]\n"
          ]
        }
      ]
    }
  ]
}