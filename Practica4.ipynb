{
  "nbformat": 4,
  "nbformat_minor": 0,
  "metadata": {
    "colab": {
      "provenance": [],
      "include_colab_link": true
    },
    "kernelspec": {
      "name": "python3",
      "display_name": "Python 3"
    },
    "language_info": {
      "name": "python"
    }
  },
  "cells": [
    {
      "cell_type": "markdown",
      "metadata": {
        "id": "view-in-github",
        "colab_type": "text"
      },
      "source": [
        "<a href=\"https://colab.research.google.com/github/Noemigb2001-09/ai2023-2NoemiG/blob/main/Practica4.ipynb\" target=\"_parent\"><img src=\"https://colab.research.google.com/assets/colab-badge.svg\" alt=\"Open In Colab\"/></a>"
      ]
    },
    {
      "cell_type": "code",
      "execution_count": null,
      "metadata": {
        "id": "z_0qo-vsrPAZ"
      },
      "outputs": [],
      "source": [
        "import numpy as np"
      ]
    },
    {
      "cell_type": "code",
      "source": [
        "a = np.random.randint(1, 11, size=(3,4))\n",
        "b = np.random.randint(1, 11, size=(3,4))\n",
        "print(a)\n",
        "print(b)\n",
        "print(a.shape)\n",
        "print(b.shape)\n",
        "print('adding numbers')\n",
        "print(a+b)\n",
        "print('substracting numbers')\n",
        "print(a-b)\n",
        "print('multiplicacion numbers')\n",
        "print(a*b)\n",
        "print('adding numbers')\n",
        "print (np.add(a,b))\n",
        "print('substracting numbers')\n",
        "print(np.multiply(a,b))\n",
        "print('divide numbers')\n",
        "print(np.divide(a,b))"
      ],
      "metadata": {
        "colab": {
          "base_uri": "https://localhost:8080/"
        },
        "id": "OP6DmYAYvx65",
        "outputId": "fe6b1371-faca-4f74-d1a5-617997944712"
      },
      "execution_count": null,
      "outputs": [
        {
          "output_type": "stream",
          "name": "stdout",
          "text": [
            "[[10  8 10  6]\n",
            " [ 9  1  7  2]\n",
            " [ 4  9 10  4]]\n",
            "[[ 8 10  3  7]\n",
            " [ 5  2  6  3]\n",
            " [ 6  1  5  4]]\n",
            "(3, 4)\n",
            "(3, 4)\n",
            "adding numbers\n",
            "[[18 18 13 13]\n",
            " [14  3 13  5]\n",
            " [10 10 15  8]]\n",
            "substracting numbers\n",
            "[[ 2 -2  7 -1]\n",
            " [ 4 -1  1 -1]\n",
            " [-2  8  5  0]]\n",
            "multiplicacion numbers\n",
            "[[80 80 30 42]\n",
            " [45  2 42  6]\n",
            " [24  9 50 16]]\n",
            "adding numbers\n",
            "[[18 18 13 13]\n",
            " [14  3 13  5]\n",
            " [10 10 15  8]]\n",
            "substracting numbers\n",
            "[[80 80 30 42]\n",
            " [45  2 42  6]\n",
            " [24  9 50 16]]\n",
            "divide numbers\n",
            "[[1.25       0.8        3.33333333 0.85714286]\n",
            " [1.8        0.5        1.16666667 0.66666667]\n",
            " [0.66666667 9.         2.         1.        ]]\n"
          ]
        }
      ]
    },
    {
      "cell_type": "code",
      "source": [
        "a = np.random.randint(1, 11, size=(2,3))\n",
        "b = np.random.randint(1, 11, size=(3,4))\n",
        "print(a)\n",
        "print(\"---------------\")\n",
        "print(b)\n",
        "print(\"---------------\")\n",
        "print(np.dot(a,b))\n",
        "print(\"---------------\")\n",
        "print(a.dot(b))"
      ],
      "metadata": {
        "colab": {
          "base_uri": "https://localhost:8080/"
        },
        "id": "Xelnd-Jjv3rB",
        "outputId": "26cbe7ae-611f-45b0-c0ca-1d2d25afaff8"
      },
      "execution_count": null,
      "outputs": [
        {
          "output_type": "stream",
          "name": "stdout",
          "text": [
            "[[ 1  9 10]\n",
            " [ 4  4 10]]\n",
            "---------------\n",
            "[[ 3  1  1 10]\n",
            " [ 7  2 10  6]\n",
            " [ 3  4  1  6]]\n",
            "---------------\n",
            "[[ 96  59 101 124]\n",
            " [ 70  52  54 124]]\n",
            "---------------\n",
            "[[ 96  59 101 124]\n",
            " [ 70  52  54 124]]\n"
          ]
        }
      ]
    },
    {
      "cell_type": "code",
      "source": [
        "a=np.random.randint(1,11, size=(2,2))\n",
        "print(a.shape)\n",
        "print(\"---------------\")\n",
        "print(type(a))\n",
        "print(\"---------------\")\n",
        "print(a)\n",
        "print(\"---------------\")\n",
        "print(a.T)"
      ],
      "metadata": {
        "colab": {
          "base_uri": "https://localhost:8080/"
        },
        "id": "lkzlSbg3v_u6",
        "outputId": "2501b161-8f2a-4e9e-d6b1-0a16542f9d92"
      },
      "execution_count": null,
      "outputs": [
        {
          "output_type": "stream",
          "name": "stdout",
          "text": [
            "(2, 2)\n",
            "---------------\n",
            "<class 'numpy.ndarray'>\n",
            "---------------\n",
            "[[5 1]\n",
            " [2 1]]\n",
            "---------------\n",
            "[[5 2]\n",
            " [1 1]]\n"
          ]
        }
      ]
    },
    {
      "cell_type": "code",
      "source": [
        "a=np.random.randint(1,11, size=(4,3))\n",
        "b=np.array([1,0,2])\n",
        "print(a.shape)\n",
        "print(\"---------------\")\n",
        "print(b.shape)"
      ],
      "metadata": {
        "colab": {
          "base_uri": "https://localhost:8080/"
        },
        "id": "e7biJbg-wH4B",
        "outputId": "d001fb8e-7a61-426b-fbbe-efff5bb5b19e"
      },
      "execution_count": null,
      "outputs": [
        {
          "output_type": "stream",
          "name": "stdout",
          "text": [
            "(4, 3)\n",
            "---------------\n",
            "(3,)\n"
          ]
        }
      ]
    },
    {
      "cell_type": "code",
      "source": [
        "c=np.empty_like(a)\n",
        "print(a)\n",
        "print(\"-------------\")\n",
        "print(b)\n",
        "print(\"-------------\")\n",
        "print(c.shape)\n",
        "print(\"-------------\")\n",
        "print(c)\n",
        "print(\"-----------\")"
      ],
      "metadata": {
        "colab": {
          "base_uri": "https://localhost:8080/"
        },
        "id": "Y-Pm868awM6J",
        "outputId": "5ccba54c-e66f-43a6-a9e0-27268884833a"
      },
      "execution_count": null,
      "outputs": [
        {
          "output_type": "stream",
          "name": "stdout",
          "text": [
            "[[ 6  8  9]\n",
            " [ 8  3 10]\n",
            " [ 8  9  3]\n",
            " [ 9  9  5]]\n",
            "-------------\n",
            "[1 0 2]\n",
            "-------------\n",
            "(4, 3)\n",
            "-------------\n",
            "[[10  8 10]\n",
            " [ 6  9  1]\n",
            " [ 7  2  4]\n",
            " [ 9 10  4]]\n",
            "-----------\n"
          ]
        }
      ]
    },
    {
      "cell_type": "code",
      "source": [
        "for i in range(4):\n",
        "  c[i,:]=a[i,:]+b"
      ],
      "metadata": {
        "id": "QgTsC6M8wS0R"
      },
      "execution_count": null,
      "outputs": []
    },
    {
      "cell_type": "code",
      "source": [
        "print(\"Matriz 'a':\")\n",
        "print(a)\n",
        "\n",
        "print(\"Vector 'b':\")\n",
        "print(b)\n",
        "\n",
        "print(\"Matriz 'c' (resultado de la suma):\")\n",
        "print(c)"
      ],
      "metadata": {
        "colab": {
          "base_uri": "https://localhost:8080/"
        },
        "id": "IlgqmJ17wWxU",
        "outputId": "6908f666-e151-4585-f540-29d84a46400a"
      },
      "execution_count": null,
      "outputs": [
        {
          "output_type": "stream",
          "name": "stdout",
          "text": [
            "Matriz 'a':\n",
            "[[ 6  8  9]\n",
            " [ 8  3 10]\n",
            " [ 8  9  3]\n",
            " [ 9  9  5]]\n",
            "Vector 'b':\n",
            "[1 0 2]\n",
            "Matriz 'c' (resultado de la suma):\n",
            "[[ 7  8 11]\n",
            " [ 9  3 12]\n",
            " [ 9  9  5]\n",
            " [10  9  7]]\n"
          ]
        }
      ]
    },
    {
      "cell_type": "code",
      "source": [
        "a=np.array([1,2,3])\n",
        "print(a)\n",
        "b = np.tile(a, (6, 1))\n",
        "print(b)"
      ],
      "metadata": {
        "colab": {
          "base_uri": "https://localhost:8080/"
        },
        "id": "HspVv1JzwZap",
        "outputId": "c1726d48-cdc4-46f9-af5d-16589067a19b"
      },
      "execution_count": null,
      "outputs": [
        {
          "output_type": "stream",
          "name": "stdout",
          "text": [
            "[1 2 3]\n",
            "[[1 2 3]\n",
            " [1 2 3]\n",
            " [1 2 3]\n",
            " [1 2 3]\n",
            " [1 2 3]\n",
            " [1 2 3]]\n"
          ]
        }
      ]
    },
    {
      "cell_type": "code",
      "source": [
        "a=np.random.randint(0,10, size=(6,6))\n",
        "print(a)\n",
        "print(\"-----------\")\n",
        "aux = np.mean(a)\n",
        "print(aux)\n",
        "print(\"-----------\")\n",
        "aux = np.mean(a, axis=1)\n",
        "print(aux)\n",
        "print(\"-----------\")\n",
        "aux = np.mean(a, axis=0)\n",
        "print(aux)"
      ],
      "metadata": {
        "colab": {
          "base_uri": "https://localhost:8080/"
        },
        "id": "BWyopBIXwhe7",
        "outputId": "c4494cb5-a4a4-4635-8d5c-c69562b6b0b6"
      },
      "execution_count": null,
      "outputs": [
        {
          "output_type": "stream",
          "name": "stdout",
          "text": [
            "[[4 8 1 3 0 5]\n",
            " [0 2 2 1 9 5]\n",
            " [2 6 8 9 4 9]\n",
            " [1 6 3 1 4 1]\n",
            " [3 3 5 4 3 1]\n",
            " [3 2 2 0 3 7]]\n",
            "-----------\n",
            "3.611111111111111\n",
            "-----------\n",
            "[3.5        3.16666667 6.33333333 2.66666667 3.16666667 2.83333333]\n",
            "-----------\n",
            "[2.16666667 4.5        3.5        3.         3.83333333 4.66666667]\n"
          ]
        }
      ]
    }
  ]
}