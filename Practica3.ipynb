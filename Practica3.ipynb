{
  "nbformat": 4,
  "nbformat_minor": 0,
  "metadata": {
    "colab": {
      "provenance": [],
      "include_colab_link": true
    },
    "kernelspec": {
      "name": "python3",
      "display_name": "Python 3"
    },
    "language_info": {
      "name": "python"
    }
  },
  "cells": [
    {
      "cell_type": "markdown",
      "metadata": {
        "id": "view-in-github",
        "colab_type": "text"
      },
      "source": [
        "<a href=\"https://colab.research.google.com/github/Noemigb2001-09/ai2023-2NoemiG/blob/main/Practica3.ipynb\" target=\"_parent\"><img src=\"https://colab.research.google.com/assets/colab-badge.svg\" alt=\"Open In Colab\"/></a>"
      ]
    },
    {
      "cell_type": "code",
      "execution_count": null,
      "metadata": {
        "id": "Iymtb3OdrKPN"
      },
      "outputs": [],
      "source": [
        "import numpy as np"
      ]
    },
    {
      "cell_type": "code",
      "source": [
        "aux=np.array([1,2,3,4,5])\n",
        "print(aux)\n",
        "print(aux.shape)\n",
        "\n",
        "aux2=np.array([[1,2,3,4,5],[1,2,3,4,5]])\n",
        "print(aux2)\n",
        "print(aux2.shape)\n",
        "print(type(aux2))"
      ],
      "metadata": {
        "colab": {
          "base_uri": "https://localhost:8080/"
        },
        "id": "ECc-XE8grtc0",
        "outputId": "3667da55-0617-4a8f-9394-0e24a1cde945"
      },
      "execution_count": null,
      "outputs": [
        {
          "output_type": "stream",
          "name": "stdout",
          "text": [
            "[1 2 3 4 5]\n",
            "(5,)\n",
            "[[1 2 3 4 5]\n",
            " [1 2 3 4 5]]\n",
            "(2, 5)\n",
            "<class 'numpy.ndarray'>\n"
          ]
        }
      ]
    },
    {
      "cell_type": "code",
      "source": [
        "tmp=np.zeros((4,4))\n",
        "print(tmp)"
      ],
      "metadata": {
        "colab": {
          "base_uri": "https://localhost:8080/"
        },
        "id": "FgAw2Wh4rwPT",
        "outputId": "8438375e-4947-4385-e95b-8ae2bd0d1810"
      },
      "execution_count": null,
      "outputs": [
        {
          "output_type": "stream",
          "name": "stdout",
          "text": [
            "[[0. 0. 0. 0.]\n",
            " [0. 0. 0. 0.]\n",
            " [0. 0. 0. 0.]\n",
            " [0. 0. 0. 0.]]\n"
          ]
        }
      ]
    },
    {
      "cell_type": "code",
      "source": [
        "print(\"Matriz full valores del mismo numeroi\")\n",
        "tmp=np.full((4,4),5)\n",
        "print(tmp)"
      ],
      "metadata": {
        "colab": {
          "base_uri": "https://localhost:8080/"
        },
        "id": "cRGe9tVtry_D",
        "outputId": "674329ae-fc30-413e-e409-72cd08ffcf6a"
      },
      "execution_count": null,
      "outputs": [
        {
          "output_type": "stream",
          "name": "stdout",
          "text": [
            "Matriz full valores del mismo numeroi\n",
            "[[5 5 5 5]\n",
            " [5 5 5 5]\n",
            " [5 5 5 5]\n",
            " [5 5 5 5]]\n"
          ]
        }
      ]
    },
    {
      "cell_type": "code",
      "source": [
        "print(\"Matriz diagonal\")\n",
        "tmp=np.eye(4,4)\n",
        "print(tmp)"
      ],
      "metadata": {
        "colab": {
          "base_uri": "https://localhost:8080/"
        },
        "id": "Gxw-idimuoyr",
        "outputId": "cc5f32c9-3c6f-4a1c-9a16-696d48cb4522"
      },
      "execution_count": null,
      "outputs": [
        {
          "output_type": "stream",
          "name": "stdout",
          "text": [
            "Matriz diagonal\n",
            "[[1. 0. 0. 0.]\n",
            " [0. 1. 0. 0.]\n",
            " [0. 0. 1. 0.]\n",
            " [0. 0. 0. 1.]]\n"
          ]
        }
      ]
    },
    {
      "cell_type": "code",
      "source": [
        "print(\"Matriz de 1\")\n",
        "tmp=np.ones((4,4))\n",
        "print(tmp)"
      ],
      "metadata": {
        "colab": {
          "base_uri": "https://localhost:8080/"
        },
        "id": "Q8K216cHurrS",
        "outputId": "5cb65efd-4084-41ba-bdae-2049f7ac0cd4"
      },
      "execution_count": null,
      "outputs": [
        {
          "output_type": "stream",
          "name": "stdout",
          "text": [
            "Matriz de 1\n",
            "[[1. 1. 1. 1.]\n",
            " [1. 1. 1. 1.]\n",
            " [1. 1. 1. 1.]\n",
            " [1. 1. 1. 1.]]\n"
          ]
        }
      ]
    },
    {
      "cell_type": "code",
      "source": [
        "print(\"Numeros randoms\")\n",
        "tmp=10*np.random.random((4,4))\n",
        "print(tmp)\n",
        "print(tmp.shape)"
      ],
      "metadata": {
        "colab": {
          "base_uri": "https://localhost:8080/"
        },
        "id": "xE50uNIbuxTC",
        "outputId": "a8aa3803-5fa2-4e59-de8d-a064f6411f06"
      },
      "execution_count": null,
      "outputs": [
        {
          "output_type": "stream",
          "name": "stdout",
          "text": [
            "Numeros randoms\n",
            "[[1.50109553 4.21474175 6.33953103 2.55144467]\n",
            " [6.38975952 7.25591227 7.68721214 5.74084077]\n",
            " [7.35674301 0.77105108 4.49889537 7.20985295]\n",
            " [6.59895347 6.57511687 8.91728059 2.79002289]]\n",
            "(4, 4)\n"
          ]
        }
      ]
    },
    {
      "cell_type": "code",
      "source": [
        "print(tmp[:2,:2])"
      ],
      "metadata": {
        "colab": {
          "base_uri": "https://localhost:8080/"
        },
        "id": "qaAmerRxu2mJ",
        "outputId": "1996b4f5-4cc3-4914-bf2b-4b8dbd87fc52"
      },
      "execution_count": null,
      "outputs": [
        {
          "output_type": "stream",
          "name": "stdout",
          "text": [
            "[[1.50109553 4.21474175]\n",
            " [6.38975952 7.25591227]]\n"
          ]
        }
      ]
    },
    {
      "cell_type": "code",
      "source": [
        "print(tmp[:2,1:3])"
      ],
      "metadata": {
        "colab": {
          "base_uri": "https://localhost:8080/"
        },
        "id": "74n5kmm3u4Pk",
        "outputId": "f0e2e395-82a8-493f-f003-319f8a3aa51c"
      },
      "execution_count": null,
      "outputs": [
        {
          "output_type": "stream",
          "name": "stdout",
          "text": [
            "[[4.21474175 6.33953103]\n",
            " [7.25591227 7.68721214]]\n"
          ]
        }
      ]
    },
    {
      "cell_type": "code",
      "source": [
        "print(tmp[3])"
      ],
      "metadata": {
        "colab": {
          "base_uri": "https://localhost:8080/"
        },
        "id": "X1QsM3lVu5ki",
        "outputId": "24e68623-d5e9-4366-9c51-ebe94f93a440"
      },
      "execution_count": null,
      "outputs": [
        {
          "output_type": "stream",
          "name": "stdout",
          "text": [
            "[6.59895347 6.57511687 8.91728059 2.79002289]\n"
          ]
        }
      ]
    },
    {
      "cell_type": "code",
      "source": [
        "print(tmp[2,2])"
      ],
      "metadata": {
        "colab": {
          "base_uri": "https://localhost:8080/"
        },
        "id": "xYzr8Zd6u5eR",
        "outputId": "085e57c8-3079-4cd9-ef80-9361b0875eb5"
      },
      "execution_count": null,
      "outputs": [
        {
          "output_type": "stream",
          "name": "stdout",
          "text": [
            "4.498895367681762\n"
          ]
        }
      ]
    },
    {
      "cell_type": "code",
      "source": [
        "print(\"Numeros randoms\")\n",
        "tmp=10*np.random.random((4,4))\n",
        "print(tmp)\n",
        "print(tmp.shape)"
      ],
      "metadata": {
        "colab": {
          "base_uri": "https://localhost:8080/"
        },
        "id": "fWpUHOFju9Sy",
        "outputId": "a4533848-dbd9-4ce4-b291-f313e3425b35"
      },
      "execution_count": null,
      "outputs": [
        {
          "output_type": "stream",
          "name": "stdout",
          "text": [
            "Numeros randoms\n",
            "[[2.76402351 9.52199243 0.42695018 6.0077761 ]\n",
            " [2.01244941 1.17727933 2.22572896 8.4514175 ]\n",
            " [6.93716009 6.85904727 4.23734433 6.73589454]\n",
            " [5.16850676 6.73598386 2.55573237 8.16988946]]\n",
            "(4, 4)\n"
          ]
        }
      ]
    },
    {
      "cell_type": "code",
      "source": [
        "mask=tmp>5\n",
        "print(tmp[mask])"
      ],
      "metadata": {
        "colab": {
          "base_uri": "https://localhost:8080/"
        },
        "id": "TKaHVTpQu_Vl",
        "outputId": "7154036f-2dad-4b79-9779-2cc03267b31f"
      },
      "execution_count": null,
      "outputs": [
        {
          "output_type": "stream",
          "name": "stdout",
          "text": [
            "[9.52199243 6.0077761  8.4514175  6.93716009 6.85904727 6.73589454\n",
            " 5.16850676 6.73598386 8.16988946]\n"
          ]
        }
      ]
    },
    {
      "cell_type": "code",
      "source": [
        "mask=(tmp>=2)&(tmp<=4)\n",
        "print(tmp[mask])"
      ],
      "metadata": {
        "colab": {
          "base_uri": "https://localhost:8080/"
        },
        "id": "i6B4y8olvBf6",
        "outputId": "30e91cf7-33f6-426d-f9f2-8a81b5dcc480"
      },
      "execution_count": null,
      "outputs": [
        {
          "output_type": "stream",
          "name": "stdout",
          "text": [
            "[2.76402351 2.01244941 2.22572896 2.55573237]\n"
          ]
        }
      ]
    },
    {
      "cell_type": "code",
      "source": [
        "# Crear un arreglo de 4x4 con valores aleatorios enteros entre 1 y 100\n",
        "arreglo = np.random.randint(1, 101, size=(4, 4))\n",
        "\n",
        "print(\"Arreglo original:\")\n",
        "print(arreglo)\n",
        "\n",
        "# Crear una máscara booleana para los números pares\n",
        "mascara_pares = arreglo % 2 == 0\n",
        "\n",
        "# Aplicar la máscara para seleccionar los números pares\n",
        "numeros_pares = arreglo[mascara_pares]\n",
        "\n",
        "print(\"Números pares:\")\n",
        "print(numeros_pares)"
      ],
      "metadata": {
        "id": "A1YcSJUqvXxS",
        "outputId": "e6ddbe25-f641-48bb-c34b-2de4a1365d51",
        "colab": {
          "base_uri": "https://localhost:8080/"
        }
      },
      "execution_count": null,
      "outputs": [
        {
          "output_type": "stream",
          "name": "stdout",
          "text": [
            "Arreglo original:\n",
            "[[20 43 23 83]\n",
            " [31 55  8 91]\n",
            " [27 64 19 67]\n",
            " [27  9 48 85]]\n",
            "Números pares:\n",
            "[20  8 64 48]\n"
          ]
        }
      ]
    }
  ]
}