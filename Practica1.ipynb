{
  "nbformat": 4,
  "nbformat_minor": 0,
  "metadata": {
    "colab": {
      "provenance": [],
      "include_colab_link": true
    },
    "kernelspec": {
      "name": "python3",
      "display_name": "Python 3"
    },
    "language_info": {
      "name": "python"
    }
  },
  "cells": [
    {
      "cell_type": "markdown",
      "metadata": {
        "id": "view-in-github",
        "colab_type": "text"
      },
      "source": [
        "<a href=\"https://colab.research.google.com/github/Noemigb2001-09/ai2023-2NoemiG/blob/main/Practica1.ipynb\" target=\"_parent\"><img src=\"https://colab.research.google.com/assets/colab-badge.svg\" alt=\"Open In Colab\"/></a>"
      ]
    },
    {
      "cell_type": "code",
      "execution_count": null,
      "metadata": {
        "id": "6pnhu1bUpNx8"
      },
      "outputs": [],
      "source": [
        "num_1=1"
      ]
    },
    {
      "cell_type": "code",
      "source": [
        "num_2 = 2"
      ],
      "metadata": {
        "id": "f1E8jvW0ptK8"
      },
      "execution_count": null,
      "outputs": []
    },
    {
      "cell_type": "code",
      "source": [
        "print(num_1+num_2)"
      ],
      "metadata": {
        "colab": {
          "base_uri": "https://localhost:8080/"
        },
        "id": "14_HBlNWpvZt",
        "outputId": "7f4f6dcb-7e32-4f62-a805-946d083fd069"
      },
      "execution_count": null,
      "outputs": [
        {
          "output_type": "stream",
          "name": "stdout",
          "text": [
            "3\n"
          ]
        }
      ]
    },
    {
      "cell_type": "code",
      "source": [
        "pote = 1**num_2"
      ],
      "metadata": {
        "id": "6lThJfuJpyOz"
      },
      "execution_count": null,
      "outputs": []
    },
    {
      "cell_type": "code",
      "source": [
        "print(pote)"
      ],
      "metadata": {
        "colab": {
          "base_uri": "https://localhost:8080/"
        },
        "id": "2l_wc4Aopz7b",
        "outputId": "770d8e83-0a78-4187-8ba5-eabe34aae905"
      },
      "execution_count": null,
      "outputs": [
        {
          "output_type": "stream",
          "name": "stdout",
          "text": [
            "1\n"
          ]
        }
      ]
    },
    {
      "cell_type": "code",
      "source": [
        "aux_1=True\n",
        "aux_2=False\n",
        "print(aux_1 and aux_2)\n",
        "print(aux_1 or aux_2)\n",
        "print(not aux_1)\n",
        "print(not aux_2)"
      ],
      "metadata": {
        "colab": {
          "base_uri": "https://localhost:8080/"
        },
        "id": "0cEd9Z-Ap277",
        "outputId": "8ec67702-9472-4974-c4cc-e599ca7d26dd"
      },
      "execution_count": null,
      "outputs": [
        {
          "output_type": "stream",
          "name": "stdout",
          "text": [
            "False\n",
            "True\n",
            "False\n",
            "True\n"
          ]
        }
      ]
    },
    {
      "cell_type": "code",
      "source": [
        "myName=\"Alejandra\"\n",
        "print(myName)\n",
        "print(myName.upper())\n",
        "print(myName.lower())"
      ],
      "metadata": {
        "colab": {
          "base_uri": "https://localhost:8080/"
        },
        "id": "_dOPFxjDp6rA",
        "outputId": "9d98b016-41bc-4865-903e-68ea7e9d8812"
      },
      "execution_count": null,
      "outputs": [
        {
          "output_type": "stream",
          "name": "stdout",
          "text": [
            "Alejandra\n",
            "ALEJANDRA\n",
            "alejandra\n"
          ]
        }
      ]
    },
    {
      "cell_type": "code",
      "source": [
        "tmp='Alejandra ; Arteaga ; Maria'\n",
        "print(tmp)\n",
        "print(tmp.split(';'))"
      ],
      "metadata": {
        "colab": {
          "base_uri": "https://localhost:8080/"
        },
        "id": "OtYmw4pvqBSm",
        "outputId": "4fb13ae8-eede-42fc-8754-894b17c6a588"
      },
      "execution_count": null,
      "outputs": [
        {
          "output_type": "stream",
          "name": "stdout",
          "text": [
            "Alejandra ; Arteaga ; Maria\n",
            "['Alejandra ', ' Arteaga ', ' Maria']\n"
          ]
        }
      ]
    },
    {
      "cell_type": "code",
      "source": [
        "lista=('cuaderno','lapiz','borrador','regla')\n",
        "print(lista)\n",
        "nuevo_objeto='hoja'\n",
        "# lista.append(nuevo_objeto)\n",
        "print(lista)"
      ],
      "metadata": {
        "colab": {
          "base_uri": "https://localhost:8080/"
        },
        "id": "Egfr8Z5sqQ6c",
        "outputId": "b8e22bf8-2477-4d54-cb4c-ee2f717c73d3"
      },
      "execution_count": null,
      "outputs": [
        {
          "output_type": "stream",
          "name": "stdout",
          "text": [
            "('cuaderno', 'lapiz', 'borrador', 'regla')\n",
            "('cuaderno', 'lapiz', 'borrador', 'regla')\n"
          ]
        }
      ]
    },
    {
      "cell_type": "code",
      "source": [
        "newListeNum=list(range(20))\n",
        "print(newListeNum)\n",
        "print(newListeNum[5:11])\n",
        "print(newListeNum[-1])"
      ],
      "metadata": {
        "id": "ESE3-eZ3qk2r",
        "outputId": "a77738a7-9e45-48c6-f035-97718fb5aa93",
        "colab": {
          "base_uri": "https://localhost:8080/"
        }
      },
      "execution_count": null,
      "outputs": [
        {
          "output_type": "stream",
          "name": "stdout",
          "text": [
            "[0, 1, 2, 3, 4, 5, 6, 7, 8, 9, 10, 11, 12, 13, 14, 15, 16, 17, 18, 19]\n",
            "[5, 6, 7, 8, 9, 10]\n",
            "19\n"
          ]
        }
      ]
    }
  ]
}